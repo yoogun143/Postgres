{
 "cells": [
  {
   "cell_type": "markdown",
   "metadata": {},
   "source": [
    "# `SHORT VERSION`: Send Data Python -> PSQL\n",
    "\n",
    "# <font color=red> Mr Fugu Data Science </font>\n",
    "\n",
    "# (◕‿◕✿)\n",
    "\n",
    "# Purpose & Outcome:\n",
    "\n",
    "+ Create a connection to PSQL \n",
    "+ send CSV and data frames to PSQL from Python using (`psycopg2`)\n",
    "+ Send data back to python from postgresql\n",
    "+ show some simple queries\n",
    "\n",
    "`------------------------------------`"
   ]
  },
  {
   "cell_type": "markdown",
   "metadata": {},
   "source": [
    "Install Psycopg2:\n",
    "**`python -m pip install psycopg2`**\n",
    "\n",
    "if this doesn't work, try changing pip to pip3 depending on what version of Python you are using\n",
    "\n",
    "if that doesn't work either try to do: conda install -c anaconda psycopg2\n",
    "\n",
    "For my installation I found problems with installation: I did two steps: pip3 install psycopg2 followed by the conda install -c anaconda psycopg2. The first install showed complete but did not work, I feel that I may have been imcomplete with all the dependencies needed. Also, I was getting a Python 2.7 error hashing. I suggest that you first check the version of Python and Location PATH. I feel that my default Location may be anaconda calling Python if I remember correctly.\n",
    "\n",
    "I thought this was from using a wrong default version of Python, changed my default and still didn't work. That was not the entire case, try the above and hope this works for you.\n",
    "\n",
    "Separate source for installing: depending on situation. [`Install Mac`](https://www.youtube.com/watch?v=N4RxnQH2pVY) |\n",
    "[`Windows Install`](https://kb.objectrocket.com/postgresql/how-to-install-psycopg2-in-windows-1460)"
   ]
  },
  {
   "cell_type": "code",
   "execution_count": 1,
   "metadata": {},
   "outputs": [
    {
     "ename": "ModuleNotFoundError",
     "evalue": "No module named 'config'",
     "output_type": "error",
     "traceback": [
      "\u001b[1;31m---------------------------------------------------------------------------\u001b[0m",
      "\u001b[1;31mModuleNotFoundError\u001b[0m                       Traceback (most recent call last)",
      "Cell \u001b[1;32mIn[1], line 7\u001b[0m\n\u001b[0;32m      4\u001b[0m \u001b[38;5;28;01mimport\u001b[39;00m \u001b[38;5;21;01mpandas\u001b[39;00m \u001b[38;5;28;01mas\u001b[39;00m \u001b[38;5;21;01mpd\u001b[39;00m         \u001b[38;5;66;03m# create dataframes \u001b[39;00m\n\u001b[0;32m      6\u001b[0m \u001b[38;5;66;03m# Import the 'config' function from the config_user_dta.py file:\u001b[39;00m\n\u001b[1;32m----> 7\u001b[0m \u001b[38;5;28;01mfrom\u001b[39;00m \u001b[38;5;21;01mconfig\u001b[39;00m \u001b[38;5;28;01mimport\u001b[39;00m load_config\n",
      "\u001b[1;31mModuleNotFoundError\u001b[0m: No module named 'config'"
     ]
    }
   ],
   "source": [
    "import psycopg2             # python -> psql connection\n",
    "import psycopg2.extras\n",
    "\n",
    "import pandas as pd         # create dataframes \n",
    "\n",
    "# Import the 'config' function from the config_user_dta.py file:\n",
    "from config import load_config"
   ]
  },
  {
   "cell_type": "markdown",
   "metadata": {},
   "source": [
    "`If you do not want to create init or config files`: do something similar to this\n",
    "\n",
    "**import psycopg2**\n",
    "\n",
    "**conn = psycopg2.connect(\"dbname=test user=postgres\")** # Connect to an existing database\n",
    "\n",
    "**cur = conn.cursor( )** #Open a cursor to perform database operations"
   ]
  },
  {
   "cell_type": "code",
   "execution_count": 4,
   "metadata": {},
   "outputs": [],
   "source": [
    "# Establish a connection to the database by creating a cursor object\n",
    "\n",
    "# Get the config params\n",
    "params_ = load_config()\n",
    "\n",
    "# Connect to the Postgres_DB:\n",
    "conn = psycopg2.connect(**params_)\n",
    "\n",
    "# Create new_cursor allowing us to write Python to execute PSQL:\n",
    "cur = conn.cursor()\n",
    "\n",
    "conn.autocommit = True  # read documentation understanding when to Use & NOT use (TRUE)"
   ]
  },
  {
   "cell_type": "markdown",
   "metadata": {},
   "source": [
    "# Cursor and Connection are Context Managers :\n",
    "+ allowing you to use the with statement, and psycopg2 will commit transaction unless there is an error\n",
    "\n",
    "[further reading](https://www.postgresqltutorial.com/postgresql-python/transaction/)"
   ]
  },
  {
   "cell_type": "code",
   "execution_count": 2,
   "metadata": {},
   "outputs": [
    {
     "data": {
      "text/html": [
       "<div>\n",
       "<style scoped>\n",
       "    .dataframe tbody tr th:only-of-type {\n",
       "        vertical-align: middle;\n",
       "    }\n",
       "\n",
       "    .dataframe tbody tr th {\n",
       "        vertical-align: top;\n",
       "    }\n",
       "\n",
       "    .dataframe thead th {\n",
       "        text-align: right;\n",
       "    }\n",
       "</style>\n",
       "<table border=\"1\" class=\"dataframe\">\n",
       "  <thead>\n",
       "    <tr style=\"text-align: right;\">\n",
       "      <th></th>\n",
       "      <th>credit_card</th>\n",
       "      <th>email</th>\n",
       "      <th>first_name</th>\n",
       "      <th>last_name</th>\n",
       "      <th>primary_phone_number</th>\n",
       "    </tr>\n",
       "  </thead>\n",
       "  <tbody>\n",
       "    <tr>\n",
       "      <th>0</th>\n",
       "      <td>5399-3484-4724-7187</td>\n",
       "      <td>gso@qiegan.sqe</td>\n",
       "      <td>Donyell Ann</td>\n",
       "      <td>Ospina</td>\n",
       "      <td>5219459148</td>\n",
       "    </tr>\n",
       "    <tr>\n",
       "      <th>1</th>\n",
       "      <td>1630-5261-6108-7631</td>\n",
       "      <td>xnji@gfruaxqnvm.fha</td>\n",
       "      <td>Bishop</td>\n",
       "      <td>Siyed</td>\n",
       "      <td>4164254716</td>\n",
       "    </tr>\n",
       "    <tr>\n",
       "      <th>2</th>\n",
       "      <td>4435-3866-1076-3595</td>\n",
       "      <td>dvyco@tkzhsop.zxg</td>\n",
       "      <td>Connor</td>\n",
       "      <td>Powers</td>\n",
       "      <td>3627413915</td>\n",
       "    </tr>\n",
       "    <tr>\n",
       "      <th>3</th>\n",
       "      <td>3489-7099-9906-8660</td>\n",
       "      <td>fy@uvfhplatmz.cam</td>\n",
       "      <td>Kylie</td>\n",
       "      <td>Her</td>\n",
       "      <td>3562764561</td>\n",
       "    </tr>\n",
       "    <tr>\n",
       "      <th>4</th>\n",
       "      <td>8631-4500-5666-1510</td>\n",
       "      <td>rztkvliou@dkeinhgysf.deo</td>\n",
       "      <td>Anthony</td>\n",
       "      <td>Vo</td>\n",
       "      <td>7345795348</td>\n",
       "    </tr>\n",
       "  </tbody>\n",
       "</table>\n",
       "</div>"
      ],
      "text/plain": [
       "           credit_card                     email   first_name last_name  \\\n",
       "0  5399-3484-4724-7187            gso@qiegan.sqe  Donyell Ann    Ospina   \n",
       "1  1630-5261-6108-7631       xnji@gfruaxqnvm.fha       Bishop     Siyed   \n",
       "2  4435-3866-1076-3595         dvyco@tkzhsop.zxg       Connor    Powers   \n",
       "3  3489-7099-9906-8660         fy@uvfhplatmz.cam        Kylie       Her   \n",
       "4  8631-4500-5666-1510  rztkvliou@dkeinhgysf.deo      Anthony        Vo   \n",
       "\n",
       "   primary_phone_number  \n",
       "0            5219459148  \n",
       "1            4164254716  \n",
       "2            3627413915  \n",
       "3            3562764561  \n",
       "4            7345795348  "
      ]
     },
     "execution_count": 2,
     "metadata": {},
     "output_type": "execute_result"
    }
   ],
   "source": [
    "# Our Data:\n",
    "\n",
    "addr_df=pd.read_csv('fake_users_R.csv')\n",
    "addr_df.reset_index(drop=True,inplace=True)\n",
    "addr_df_=addr_df.drop('Unnamed: 0',axis=1)\n",
    "addr_df_.head()"
   ]
  },
  {
   "cell_type": "code",
   "execution_count": 9,
   "metadata": {},
   "outputs": [],
   "source": [
    "\n",
    "def create_staging_table(cursor):\n",
    "    cursor.execute(\"\"\"\n",
    "        DROP TABLE IF EXISTS staging_fake_ppl CASCADE;\n",
    "        CREATE UNLOGGED TABLE staging_fake_ppl (\n",
    "            credit_card         TEXT,\n",
    "            email               TEXT,\n",
    "            first_name          TEXT,\n",
    "            last_name           TEXT,\n",
    "            primary_phone       TEXT\n",
    "        );\"\"\")\n",
    "\n",
    "# look at the documentation of PSQL (UNLOGGED TABLE vs TEMP)\n",
    "# CASCADE was used because I had done this before and there were dependencies I needed\n",
    "# to remove"
   ]
  },
  {
   "cell_type": "code",
   "execution_count": 10,
   "metadata": {},
   "outputs": [],
   "source": [
    "# creating our schema  and sending the table to psql\n",
    "with conn.cursor() as cursor:\n",
    "    create_staging_table(cursor)"
   ]
  },
  {
   "cell_type": "markdown",
   "metadata": {},
   "source": [
    "# `Send .CSV( )`: Python --> PSQL"
   ]
  },
  {
   "cell_type": "code",
   "execution_count": 12,
   "metadata": {},
   "outputs": [],
   "source": [
    "\n",
    "# addr_df_.to_csv('address_Python_convertR.csv',index=False)\n",
    "\n",
    "def send_csv_to_psql(connection,csv,table_):\n",
    "    sql = \"COPY %s FROM STDIN WITH CSV HEADER DELIMITER AS ','\"\n",
    "    file = open(csv, \"r\")\n",
    "    table = table_\n",
    "    with connection.cursor() as cur:\n",
    "        cur.execute(\"truncate \" + table + \";\")  #avoiding uploading duplicate data!\n",
    "        cur.copy_expert(sql=sql % table, file=file)\n",
    "        connection.commit()\n",
    "#         cur.close()\n",
    "#         connection.close()\n",
    "    return connection.commit()\n",
    "\n",
    "send_csv_to_psql(conn,'address_Python_convertR.csv','staging_fake_ppl')"
   ]
  },
  {
   "cell_type": "markdown",
   "metadata": {},
   "source": [
    "# Simple Query with Psycog2:\n",
    "\n",
    "+ when doing a SELECT query use: fetchone( ), fetchall( ) or fetchmany( ) methods\n",
    "\n",
    "\n"
   ]
  },
  {
   "cell_type": "code",
   "execution_count": 13,
   "metadata": {},
   "outputs": [
    {
     "data": {
      "text/plain": [
       "(5826,)"
      ]
     },
     "execution_count": 13,
     "metadata": {},
     "output_type": "execute_result"
    }
   ],
   "source": [
    "sql_=\"SELECT COUNT(*) FROM staging_fake_ppl\"\n",
    "cur.execute(sql_)\n",
    "cur.fetchone()"
   ]
  },
  {
   "cell_type": "code",
   "execution_count": 14,
   "metadata": {},
   "outputs": [
    {
     "data": {
      "text/plain": [
       "[('5399-3484-4724-7187',\n",
       "  'gso@qiegan.sqe',\n",
       "  'Donyell Ann',\n",
       "  'Ospina',\n",
       "  '5219459148'),\n",
       " ('1630-5261-6108-7631',\n",
       "  'xnji@gfruaxqnvm.fha',\n",
       "  'Bishop',\n",
       "  'Siyed',\n",
       "  '4164254716'),\n",
       " ('4435-3866-1076-3595',\n",
       "  'dvyco@tkzhsop.zxg',\n",
       "  'Connor',\n",
       "  'Powers',\n",
       "  '3627413915'),\n",
       " ('3489-7099-9906-8660', 'fy@uvfhplatmz.cam', 'Kylie', 'Her', '3562764561')]"
      ]
     },
     "execution_count": 14,
     "metadata": {},
     "output_type": "execute_result"
    }
   ],
   "source": [
    "# do another query:\n",
    "\n",
    "cur.execute(\"SELECT * FROM staging_fake_ppl LIMIT 4\")\n",
    "cur.fetchall()"
   ]
  },
  {
   "cell_type": "markdown",
   "metadata": {},
   "source": [
    "# Alternate Way to Query:\n",
    "\n",
    "+ Quick and dirty way to Query PSQL and bring data into Python as a DF"
   ]
  },
  {
   "cell_type": "code",
   "execution_count": 72,
   "metadata": {},
   "outputs": [
    {
     "data": {
      "text/html": [
       "<div>\n",
       "<style scoped>\n",
       "    .dataframe tbody tr th:only-of-type {\n",
       "        vertical-align: middle;\n",
       "    }\n",
       "\n",
       "    .dataframe tbody tr th {\n",
       "        vertical-align: top;\n",
       "    }\n",
       "\n",
       "    .dataframe thead th {\n",
       "        text-align: right;\n",
       "    }\n",
       "</style>\n",
       "<table border=\"1\" class=\"dataframe\">\n",
       "  <thead>\n",
       "    <tr style=\"text-align: right;\">\n",
       "      <th></th>\n",
       "      <th>credit_card</th>\n",
       "      <th>email</th>\n",
       "      <th>first_name</th>\n",
       "      <th>last_name</th>\n",
       "      <th>primary_phone</th>\n",
       "    </tr>\n",
       "  </thead>\n",
       "  <tbody>\n",
       "    <tr>\n",
       "      <th>0</th>\n",
       "      <td>5399-3484-4724-7187</td>\n",
       "      <td>gso@qiegan.sqe</td>\n",
       "      <td>Donyell Ann</td>\n",
       "      <td>Ospina</td>\n",
       "      <td>5219459148</td>\n",
       "    </tr>\n",
       "    <tr>\n",
       "      <th>1</th>\n",
       "      <td>1630-5261-6108-7631</td>\n",
       "      <td>xnji@gfruaxqnvm.fha</td>\n",
       "      <td>Bishop</td>\n",
       "      <td>Siyed</td>\n",
       "      <td>4164254716</td>\n",
       "    </tr>\n",
       "    <tr>\n",
       "      <th>2</th>\n",
       "      <td>4435-3866-1076-3595</td>\n",
       "      <td>dvyco@tkzhsop.zxg</td>\n",
       "      <td>Connor</td>\n",
       "      <td>Powers</td>\n",
       "      <td>3627413915</td>\n",
       "    </tr>\n",
       "    <tr>\n",
       "      <th>3</th>\n",
       "      <td>3489-7099-9906-8660</td>\n",
       "      <td>fy@uvfhplatmz.cam</td>\n",
       "      <td>Kylie</td>\n",
       "      <td>Her</td>\n",
       "      <td>3562764561</td>\n",
       "    </tr>\n",
       "    <tr>\n",
       "      <th>4</th>\n",
       "      <td>8631-4500-5666-1510</td>\n",
       "      <td>rztkvliou@dkeinhgysf.deo</td>\n",
       "      <td>Anthony</td>\n",
       "      <td>Vo</td>\n",
       "      <td>7345795348</td>\n",
       "    </tr>\n",
       "  </tbody>\n",
       "</table>\n",
       "</div>"
      ],
      "text/plain": [
       "           credit_card                     email   first_name last_name  \\\n",
       "0  5399-3484-4724-7187            gso@qiegan.sqe  Donyell Ann    Ospina   \n",
       "1  1630-5261-6108-7631       xnji@gfruaxqnvm.fha       Bishop     Siyed   \n",
       "2  4435-3866-1076-3595         dvyco@tkzhsop.zxg       Connor    Powers   \n",
       "3  3489-7099-9906-8660         fy@uvfhplatmz.cam        Kylie       Her   \n",
       "4  8631-4500-5666-1510  rztkvliou@dkeinhgysf.deo      Anthony        Vo   \n",
       "\n",
       "  primary_phone  \n",
       "0    5219459148  \n",
       "1    4164254716  \n",
       "2    3627413915  \n",
       "3    3562764561  \n",
       "4    7345795348  "
      ]
     },
     "execution_count": 72,
     "metadata": {},
     "output_type": "execute_result"
    }
   ],
   "source": [
    "\n",
    "import pandas.io.sql as sqlio\n",
    "# conn = psycopg2.connect(\"host='{}' port={} dbname='{}' user={} password={}\".format(host, port, dbname, username, pwd))\n",
    "# sql = \"select count(*) from staging_fake_ppl;\"\n",
    "sql = \"select * from staging_fake_ppl;\"\n",
    "\n",
    "dat = sqlio.read_sql_query(sql, conn)\n",
    "\n",
    "dat.head()"
   ]
  },
  {
   "cell_type": "markdown",
   "metadata": {},
   "source": [
    "# `Convert Df --> List(Dict())` : then sending from \n",
    "\n",
    "# Python--> PSQL"
   ]
  },
  {
   "cell_type": "code",
   "execution_count": 15,
   "metadata": {},
   "outputs": [],
   "source": [
    "def create_staging_table_(cursor):\n",
    "    cursor.execute(\"\"\"\n",
    "        DROP TABLE IF EXISTS staging_fake_ppl02;\n",
    "        CREATE UNLOGGED TABLE staging_fake_ppl02 (\n",
    "            credit_card          TEXT,\n",
    "            email                TEXT,\n",
    "            first_name           TEXT,\n",
    "            last_name            TEXT,\n",
    "            primary_phone_number TEXT\n",
    "        );\"\"\")"
   ]
  },
  {
   "cell_type": "code",
   "execution_count": 16,
   "metadata": {},
   "outputs": [],
   "source": [
    "with conn.cursor() as cursor:\n",
    "    create_staging_table_(cursor)"
   ]
  },
  {
   "cell_type": "code",
   "execution_count": 17,
   "metadata": {},
   "outputs": [],
   "source": [
    "def fcn(df,table,cur):\n",
    "\n",
    "    if len(df) > 0:\n",
    "        df_columns = list(df)\n",
    "        # create (col1,col2,...)\n",
    "        columns = \",\".join(df_columns)\n",
    "\n",
    "        # create VALUES('%s', '%s\",...) one '%s' per column\n",
    "        values = \"VALUES({})\".format(\",\".join([\"%s\" for _ in df_columns])) \n",
    "\n",
    "        #create INSERT INTO table (columns) VALUES('%s',...)\n",
    "        insert_stmt = \"INSERT INTO {} ({}) {}\".format(table,columns,values)\n",
    "        cur.execute(\"truncate \" + table + \";\")  # avoiding uploading duplicate data!\n",
    "        cur = conn.cursor()\n",
    "        psycopg2.extras.execute_batch(cur, insert_stmt, df.values)\n",
    "    conn.commit()"
   ]
  },
  {
   "cell_type": "code",
   "execution_count": 15,
   "metadata": {},
   "outputs": [
    {
     "data": {
      "text/plain": [
       "'INSERT INTO staging_fake_ppl02 (credit_card,email,first_name,last_name,primary_phone_number) VALUES(%s,%s,%s,%s,%s)'"
      ]
     },
     "execution_count": 15,
     "metadata": {},
     "output_type": "execute_result"
    }
   ],
   "source": [
    "df_columns = list(addr_df_)\n",
    "# create (col1,col2,...)\n",
    "columns = \",\".join(df_columns)\n",
    "\n",
    "values = \"VALUES({})\".format(\",\".join([\"%s\" for _ in df_columns])) \n",
    "\n",
    "#create INSERT INTO table (columns) VALUES('%s',...)\n",
    "insert_stmt = \"INSERT INTO {} ({}) {}\".format('staging_fake_ppl02',columns,values)\n",
    "insert_stmt\n"
   ]
  },
  {
   "cell_type": "code",
   "execution_count": 18,
   "metadata": {},
   "outputs": [],
   "source": [
    "fcn(addr_df_,'staging_fake_ppl02',cur)\n",
    "# cur.close()\n",
    "# conn.close()"
   ]
  },
  {
   "cell_type": "code",
   "execution_count": 19,
   "metadata": {},
   "outputs": [
    {
     "data": {
      "text/plain": [
       "[('5399-3484-4724-7187',\n",
       "  'gso@qiegan.sqe',\n",
       "  'Donyell Ann',\n",
       "  'Ospina',\n",
       "  '5219459148'),\n",
       " ('1630-5261-6108-7631',\n",
       "  'xnji@gfruaxqnvm.fha',\n",
       "  'Bishop',\n",
       "  'Siyed',\n",
       "  '4164254716'),\n",
       " ('4435-3866-1076-3595',\n",
       "  'dvyco@tkzhsop.zxg',\n",
       "  'Connor',\n",
       "  'Powers',\n",
       "  '3627413915'),\n",
       " ('3489-7099-9906-8660', 'fy@uvfhplatmz.cam', 'Kylie', 'Her', '3562764561'),\n",
       " ('8631-4500-5666-1510',\n",
       "  'rztkvliou@dkeinhgysf.deo',\n",
       "  'Anthony',\n",
       "  'Vo',\n",
       "  '7345795348'),\n",
       " ('1459-9918-1722-7369',\n",
       "  'jofmezlbp@iw.evx',\n",
       "  'Mutammam',\n",
       "  'Mares',\n",
       "  '3247247289')]"
      ]
     },
     "execution_count": 19,
     "metadata": {},
     "output_type": "execute_result"
    }
   ],
   "source": [
    "# Quick Query: to check data, it will be the same as other file for similar table\n",
    "\n",
    "cur.execute(\"select * from staging_fake_ppl02 limit 6\")\n",
    "cur.fetchall()"
   ]
  },
  {
   "cell_type": "markdown",
   "metadata": {},
   "source": [
    "# <font color=red>LIKE</font>, Share & \n",
    "\n",
    "# <font color=red>SUB</font>scribe"
   ]
  },
  {
   "cell_type": "markdown",
   "metadata": {},
   "source": [
    "# Citations & Help:\n",
    "\n",
    "# ◔̯◔\n",
    "\n",
    "https://www.datacamp.com/community/tutorials/tutorial-postgresql-python\n",
    "\n",
    "https://hackersandslackers.com/psycopg2-postgres-python/\n",
    "\n",
    "https://pynative.com/python-postgresql-tutorial/\n",
    "\n",
    "https://stackoverflow.com/questions/23103962/how-to-write-dataframe-to-postgres-table\n",
    "\n",
    "https://alvinalexander.com/blog/post/postgresql/log-in-postgresql-database/ (command line short cuts)\n",
    "\n",
    "https://stackoverflow.com/questions/35651586/psycopg2-cursor-already-closed "
   ]
  }
 ],
 "metadata": {
  "kernelspec": {
   "display_name": "Python 3",
   "language": "python",
   "name": "python3"
  },
  "language_info": {
   "codemirror_mode": {
    "name": "ipython",
    "version": 3
   },
   "file_extension": ".py",
   "mimetype": "text/x-python",
   "name": "python",
   "nbconvert_exporter": "python",
   "pygments_lexer": "ipython3",
   "version": "3.11.4"
  }
 },
 "nbformat": 4,
 "nbformat_minor": 4
}
